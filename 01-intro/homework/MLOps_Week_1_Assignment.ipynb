{
  "cells": [
    {
      "cell_type": "code",
      "execution_count": 1,
      "metadata": {},
      "outputs": [
        {
          "name": "stdout",
          "output_type": "stream",
          "text": [
            "Python 3.11.9\n"
          ]
        }
      ],
      "source": [
        "!python -V"
      ]
    },
    {
      "cell_type": "code",
      "execution_count": 2,
      "metadata": {
        "id": "PFh56NEK0yHF"
      },
      "outputs": [
        {
          "name": "stderr",
          "output_type": "stream",
          "text": [
            "Matplotlib is building the font cache; this may take a moment.\n"
          ]
        }
      ],
      "source": [
        "import pickle\n",
        "import pandas as pd\n",
        "import numpy as np\n",
        "import matplotlib.pyplot as plt\n",
        "import seaborn as sns\n",
        "\n",
        "from sklearn.feature_extraction import DictVectorizer\n",
        "from sklearn.linear_model import LinearRegression\n",
        "from sklearn.metrics import mean_squared_error\n",
        "\n",
        "\n",
        "pd.set_option('display.float_format', lambda x: '%.1f' % x)"
      ]
    },
    {
      "cell_type": "code",
      "execution_count": 3,
      "metadata": {
        "id": "g01f0TY-1Nt7"
      },
      "outputs": [],
      "source": [
        "df = pd.read_parquet('https://d37ci6vzurychx.cloudfront.net/trip-data/yellow_tripdata_2023-01.parquet')"
      ]
    },
    {
      "cell_type": "code",
      "execution_count": 4,
      "metadata": {
        "id": "4zcPUGKP1O_E"
      },
      "outputs": [
        {
          "data": {
            "text/html": [
              "<div>\n",
              "<style scoped>\n",
              "    .dataframe tbody tr th:only-of-type {\n",
              "        vertical-align: middle;\n",
              "    }\n",
              "\n",
              "    .dataframe tbody tr th {\n",
              "        vertical-align: top;\n",
              "    }\n",
              "\n",
              "    .dataframe thead th {\n",
              "        text-align: right;\n",
              "    }\n",
              "</style>\n",
              "<table border=\"1\" class=\"dataframe\">\n",
              "  <thead>\n",
              "    <tr style=\"text-align: right;\">\n",
              "      <th></th>\n",
              "      <th>VendorID</th>\n",
              "      <th>tpep_pickup_datetime</th>\n",
              "      <th>tpep_dropoff_datetime</th>\n",
              "      <th>passenger_count</th>\n",
              "      <th>trip_distance</th>\n",
              "      <th>RatecodeID</th>\n",
              "      <th>store_and_fwd_flag</th>\n",
              "      <th>PULocationID</th>\n",
              "      <th>DOLocationID</th>\n",
              "      <th>payment_type</th>\n",
              "      <th>fare_amount</th>\n",
              "      <th>extra</th>\n",
              "      <th>mta_tax</th>\n",
              "      <th>tip_amount</th>\n",
              "      <th>tolls_amount</th>\n",
              "      <th>improvement_surcharge</th>\n",
              "      <th>total_amount</th>\n",
              "      <th>congestion_surcharge</th>\n",
              "      <th>airport_fee</th>\n",
              "    </tr>\n",
              "  </thead>\n",
              "  <tbody>\n",
              "    <tr>\n",
              "      <th>0</th>\n",
              "      <td>2</td>\n",
              "      <td>2023-01-01 00:32:10</td>\n",
              "      <td>2023-01-01 00:40:36</td>\n",
              "      <td>1.0</td>\n",
              "      <td>1.0</td>\n",
              "      <td>1.0</td>\n",
              "      <td>N</td>\n",
              "      <td>161</td>\n",
              "      <td>141</td>\n",
              "      <td>2</td>\n",
              "      <td>9.3</td>\n",
              "      <td>1.0</td>\n",
              "      <td>0.5</td>\n",
              "      <td>0.0</td>\n",
              "      <td>0.0</td>\n",
              "      <td>1.0</td>\n",
              "      <td>14.3</td>\n",
              "      <td>2.5</td>\n",
              "      <td>0.0</td>\n",
              "    </tr>\n",
              "    <tr>\n",
              "      <th>1</th>\n",
              "      <td>2</td>\n",
              "      <td>2023-01-01 00:55:08</td>\n",
              "      <td>2023-01-01 01:01:27</td>\n",
              "      <td>1.0</td>\n",
              "      <td>1.1</td>\n",
              "      <td>1.0</td>\n",
              "      <td>N</td>\n",
              "      <td>43</td>\n",
              "      <td>237</td>\n",
              "      <td>1</td>\n",
              "      <td>7.9</td>\n",
              "      <td>1.0</td>\n",
              "      <td>0.5</td>\n",
              "      <td>4.0</td>\n",
              "      <td>0.0</td>\n",
              "      <td>1.0</td>\n",
              "      <td>16.9</td>\n",
              "      <td>2.5</td>\n",
              "      <td>0.0</td>\n",
              "    </tr>\n",
              "    <tr>\n",
              "      <th>2</th>\n",
              "      <td>2</td>\n",
              "      <td>2023-01-01 00:25:04</td>\n",
              "      <td>2023-01-01 00:37:49</td>\n",
              "      <td>1.0</td>\n",
              "      <td>2.5</td>\n",
              "      <td>1.0</td>\n",
              "      <td>N</td>\n",
              "      <td>48</td>\n",
              "      <td>238</td>\n",
              "      <td>1</td>\n",
              "      <td>14.9</td>\n",
              "      <td>1.0</td>\n",
              "      <td>0.5</td>\n",
              "      <td>15.0</td>\n",
              "      <td>0.0</td>\n",
              "      <td>1.0</td>\n",
              "      <td>34.9</td>\n",
              "      <td>2.5</td>\n",
              "      <td>0.0</td>\n",
              "    </tr>\n",
              "    <tr>\n",
              "      <th>3</th>\n",
              "      <td>1</td>\n",
              "      <td>2023-01-01 00:03:48</td>\n",
              "      <td>2023-01-01 00:13:25</td>\n",
              "      <td>0.0</td>\n",
              "      <td>1.9</td>\n",
              "      <td>1.0</td>\n",
              "      <td>N</td>\n",
              "      <td>138</td>\n",
              "      <td>7</td>\n",
              "      <td>1</td>\n",
              "      <td>12.1</td>\n",
              "      <td>7.2</td>\n",
              "      <td>0.5</td>\n",
              "      <td>0.0</td>\n",
              "      <td>0.0</td>\n",
              "      <td>1.0</td>\n",
              "      <td>20.9</td>\n",
              "      <td>0.0</td>\n",
              "      <td>1.2</td>\n",
              "    </tr>\n",
              "    <tr>\n",
              "      <th>4</th>\n",
              "      <td>2</td>\n",
              "      <td>2023-01-01 00:10:29</td>\n",
              "      <td>2023-01-01 00:21:19</td>\n",
              "      <td>1.0</td>\n",
              "      <td>1.4</td>\n",
              "      <td>1.0</td>\n",
              "      <td>N</td>\n",
              "      <td>107</td>\n",
              "      <td>79</td>\n",
              "      <td>1</td>\n",
              "      <td>11.4</td>\n",
              "      <td>1.0</td>\n",
              "      <td>0.5</td>\n",
              "      <td>3.3</td>\n",
              "      <td>0.0</td>\n",
              "      <td>1.0</td>\n",
              "      <td>19.7</td>\n",
              "      <td>2.5</td>\n",
              "      <td>0.0</td>\n",
              "    </tr>\n",
              "  </tbody>\n",
              "</table>\n",
              "</div>"
            ],
            "text/plain": [
              "   VendorID tpep_pickup_datetime tpep_dropoff_datetime  passenger_count  \\\n",
              "0         2  2023-01-01 00:32:10   2023-01-01 00:40:36              1.0   \n",
              "1         2  2023-01-01 00:55:08   2023-01-01 01:01:27              1.0   \n",
              "2         2  2023-01-01 00:25:04   2023-01-01 00:37:49              1.0   \n",
              "3         1  2023-01-01 00:03:48   2023-01-01 00:13:25              0.0   \n",
              "4         2  2023-01-01 00:10:29   2023-01-01 00:21:19              1.0   \n",
              "\n",
              "   trip_distance  RatecodeID store_and_fwd_flag  PULocationID  DOLocationID  \\\n",
              "0            1.0         1.0                  N           161           141   \n",
              "1            1.1         1.0                  N            43           237   \n",
              "2            2.5         1.0                  N            48           238   \n",
              "3            1.9         1.0                  N           138             7   \n",
              "4            1.4         1.0                  N           107            79   \n",
              "\n",
              "   payment_type  fare_amount  extra  mta_tax  tip_amount  tolls_amount  \\\n",
              "0             2          9.3    1.0      0.5         0.0           0.0   \n",
              "1             1          7.9    1.0      0.5         4.0           0.0   \n",
              "2             1         14.9    1.0      0.5        15.0           0.0   \n",
              "3             1         12.1    7.2      0.5         0.0           0.0   \n",
              "4             1         11.4    1.0      0.5         3.3           0.0   \n",
              "\n",
              "   improvement_surcharge  total_amount  congestion_surcharge  airport_fee  \n",
              "0                    1.0          14.3                   2.5          0.0  \n",
              "1                    1.0          16.9                   2.5          0.0  \n",
              "2                    1.0          34.9                   2.5          0.0  \n",
              "3                    1.0          20.9                   0.0          1.2  \n",
              "4                    1.0          19.7                   2.5          0.0  "
            ]
          },
          "execution_count": 4,
          "metadata": {},
          "output_type": "execute_result"
        }
      ],
      "source": [
        "df.head()"
      ]
    },
    {
      "cell_type": "code",
      "execution_count": 5,
      "metadata": {
        "colab": {
          "base_uri": "https://localhost:8080/"
        },
        "id": "5aoQ1Ly91geS",
        "outputId": "029d36e9-a282-4a95-8e14-4aa134940716"
      },
      "outputs": [
        {
          "data": {
            "text/plain": [
              "(3066766, 19)"
            ]
          },
          "execution_count": 5,
          "metadata": {},
          "output_type": "execute_result"
        }
      ],
      "source": [
        "df.shape"
      ]
    },
    {
      "cell_type": "code",
      "execution_count": 6,
      "metadata": {
        "colab": {
          "base_uri": "https://localhost:8080/"
        },
        "id": "3Tg6MCb71kjC",
        "outputId": "735849f5-3ee1-4773-d734-7a73bc9e69c3"
      },
      "outputs": [
        {
          "name": "stdout",
          "output_type": "stream",
          "text": [
            "Columns in tripdata for January 2023 is: 19\n"
          ]
        }
      ],
      "source": [
        "#Q1\n",
        "print(f'Columns in tripdata for January 2023 is: {df.columns.size}')"
      ]
    },
    {
      "cell_type": "code",
      "execution_count": 7,
      "metadata": {
        "colab": {
          "base_uri": "https://localhost:8080/",
          "height": 226
        },
        "id": "5HYHjvJ21nUY",
        "outputId": "86c5c73f-f8eb-47ff-a724-f0566a631b50"
      },
      "outputs": [
        {
          "data": {
            "text/html": [
              "<div>\n",
              "<style scoped>\n",
              "    .dataframe tbody tr th:only-of-type {\n",
              "        vertical-align: middle;\n",
              "    }\n",
              "\n",
              "    .dataframe tbody tr th {\n",
              "        vertical-align: top;\n",
              "    }\n",
              "\n",
              "    .dataframe thead th {\n",
              "        text-align: right;\n",
              "    }\n",
              "</style>\n",
              "<table border=\"1\" class=\"dataframe\">\n",
              "  <thead>\n",
              "    <tr style=\"text-align: right;\">\n",
              "      <th></th>\n",
              "      <th>VendorID</th>\n",
              "      <th>tpep_pickup_datetime</th>\n",
              "      <th>tpep_dropoff_datetime</th>\n",
              "      <th>passenger_count</th>\n",
              "      <th>trip_distance</th>\n",
              "      <th>RatecodeID</th>\n",
              "      <th>store_and_fwd_flag</th>\n",
              "      <th>PULocationID</th>\n",
              "      <th>DOLocationID</th>\n",
              "      <th>payment_type</th>\n",
              "      <th>fare_amount</th>\n",
              "      <th>extra</th>\n",
              "      <th>mta_tax</th>\n",
              "      <th>tip_amount</th>\n",
              "      <th>tolls_amount</th>\n",
              "      <th>improvement_surcharge</th>\n",
              "      <th>total_amount</th>\n",
              "      <th>congestion_surcharge</th>\n",
              "      <th>airport_fee</th>\n",
              "      <th>duration</th>\n",
              "    </tr>\n",
              "  </thead>\n",
              "  <tbody>\n",
              "    <tr>\n",
              "      <th>0</th>\n",
              "      <td>2</td>\n",
              "      <td>2023-01-01 00:32:10</td>\n",
              "      <td>2023-01-01 00:40:36</td>\n",
              "      <td>1.0</td>\n",
              "      <td>1.0</td>\n",
              "      <td>1.0</td>\n",
              "      <td>N</td>\n",
              "      <td>161</td>\n",
              "      <td>141</td>\n",
              "      <td>2</td>\n",
              "      <td>9.3</td>\n",
              "      <td>1.0</td>\n",
              "      <td>0.5</td>\n",
              "      <td>0.0</td>\n",
              "      <td>0.0</td>\n",
              "      <td>1.0</td>\n",
              "      <td>14.3</td>\n",
              "      <td>2.5</td>\n",
              "      <td>0.0</td>\n",
              "      <td>8.4</td>\n",
              "    </tr>\n",
              "    <tr>\n",
              "      <th>1</th>\n",
              "      <td>2</td>\n",
              "      <td>2023-01-01 00:55:08</td>\n",
              "      <td>2023-01-01 01:01:27</td>\n",
              "      <td>1.0</td>\n",
              "      <td>1.1</td>\n",
              "      <td>1.0</td>\n",
              "      <td>N</td>\n",
              "      <td>43</td>\n",
              "      <td>237</td>\n",
              "      <td>1</td>\n",
              "      <td>7.9</td>\n",
              "      <td>1.0</td>\n",
              "      <td>0.5</td>\n",
              "      <td>4.0</td>\n",
              "      <td>0.0</td>\n",
              "      <td>1.0</td>\n",
              "      <td>16.9</td>\n",
              "      <td>2.5</td>\n",
              "      <td>0.0</td>\n",
              "      <td>6.3</td>\n",
              "    </tr>\n",
              "    <tr>\n",
              "      <th>2</th>\n",
              "      <td>2</td>\n",
              "      <td>2023-01-01 00:25:04</td>\n",
              "      <td>2023-01-01 00:37:49</td>\n",
              "      <td>1.0</td>\n",
              "      <td>2.5</td>\n",
              "      <td>1.0</td>\n",
              "      <td>N</td>\n",
              "      <td>48</td>\n",
              "      <td>238</td>\n",
              "      <td>1</td>\n",
              "      <td>14.9</td>\n",
              "      <td>1.0</td>\n",
              "      <td>0.5</td>\n",
              "      <td>15.0</td>\n",
              "      <td>0.0</td>\n",
              "      <td>1.0</td>\n",
              "      <td>34.9</td>\n",
              "      <td>2.5</td>\n",
              "      <td>0.0</td>\n",
              "      <td>12.8</td>\n",
              "    </tr>\n",
              "    <tr>\n",
              "      <th>3</th>\n",
              "      <td>1</td>\n",
              "      <td>2023-01-01 00:03:48</td>\n",
              "      <td>2023-01-01 00:13:25</td>\n",
              "      <td>0.0</td>\n",
              "      <td>1.9</td>\n",
              "      <td>1.0</td>\n",
              "      <td>N</td>\n",
              "      <td>138</td>\n",
              "      <td>7</td>\n",
              "      <td>1</td>\n",
              "      <td>12.1</td>\n",
              "      <td>7.2</td>\n",
              "      <td>0.5</td>\n",
              "      <td>0.0</td>\n",
              "      <td>0.0</td>\n",
              "      <td>1.0</td>\n",
              "      <td>20.9</td>\n",
              "      <td>0.0</td>\n",
              "      <td>1.2</td>\n",
              "      <td>9.6</td>\n",
              "    </tr>\n",
              "    <tr>\n",
              "      <th>4</th>\n",
              "      <td>2</td>\n",
              "      <td>2023-01-01 00:10:29</td>\n",
              "      <td>2023-01-01 00:21:19</td>\n",
              "      <td>1.0</td>\n",
              "      <td>1.4</td>\n",
              "      <td>1.0</td>\n",
              "      <td>N</td>\n",
              "      <td>107</td>\n",
              "      <td>79</td>\n",
              "      <td>1</td>\n",
              "      <td>11.4</td>\n",
              "      <td>1.0</td>\n",
              "      <td>0.5</td>\n",
              "      <td>3.3</td>\n",
              "      <td>0.0</td>\n",
              "      <td>1.0</td>\n",
              "      <td>19.7</td>\n",
              "      <td>2.5</td>\n",
              "      <td>0.0</td>\n",
              "      <td>10.8</td>\n",
              "    </tr>\n",
              "  </tbody>\n",
              "</table>\n",
              "</div>"
            ],
            "text/plain": [
              "   VendorID tpep_pickup_datetime tpep_dropoff_datetime  passenger_count  \\\n",
              "0         2  2023-01-01 00:32:10   2023-01-01 00:40:36              1.0   \n",
              "1         2  2023-01-01 00:55:08   2023-01-01 01:01:27              1.0   \n",
              "2         2  2023-01-01 00:25:04   2023-01-01 00:37:49              1.0   \n",
              "3         1  2023-01-01 00:03:48   2023-01-01 00:13:25              0.0   \n",
              "4         2  2023-01-01 00:10:29   2023-01-01 00:21:19              1.0   \n",
              "\n",
              "   trip_distance  RatecodeID store_and_fwd_flag  PULocationID  DOLocationID  \\\n",
              "0            1.0         1.0                  N           161           141   \n",
              "1            1.1         1.0                  N            43           237   \n",
              "2            2.5         1.0                  N            48           238   \n",
              "3            1.9         1.0                  N           138             7   \n",
              "4            1.4         1.0                  N           107            79   \n",
              "\n",
              "   payment_type  fare_amount  extra  mta_tax  tip_amount  tolls_amount  \\\n",
              "0             2          9.3    1.0      0.5         0.0           0.0   \n",
              "1             1          7.9    1.0      0.5         4.0           0.0   \n",
              "2             1         14.9    1.0      0.5        15.0           0.0   \n",
              "3             1         12.1    7.2      0.5         0.0           0.0   \n",
              "4             1         11.4    1.0      0.5         3.3           0.0   \n",
              "\n",
              "   improvement_surcharge  total_amount  congestion_surcharge  airport_fee  \\\n",
              "0                    1.0          14.3                   2.5          0.0   \n",
              "1                    1.0          16.9                   2.5          0.0   \n",
              "2                    1.0          34.9                   2.5          0.0   \n",
              "3                    1.0          20.9                   0.0          1.2   \n",
              "4                    1.0          19.7                   2.5          0.0   \n",
              "\n",
              "   duration  \n",
              "0       8.4  \n",
              "1       6.3  \n",
              "2      12.8  \n",
              "3       9.6  \n",
              "4      10.8  "
            ]
          },
          "execution_count": 7,
          "metadata": {},
          "output_type": "execute_result"
        }
      ],
      "source": [
        "df['duration'] = df['tpep_dropoff_datetime'] - df['tpep_pickup_datetime']\n",
        "df['duration'] = df['duration'].dt.total_seconds() / 60\n",
        "df.head()"
      ]
    },
    {
      "cell_type": "code",
      "execution_count": 8,
      "metadata": {
        "colab": {
          "base_uri": "https://localhost:8080/"
        },
        "id": "LpvmV1g-1so2",
        "outputId": "7c2c3394-033f-477d-b734-87220fbd0ec1"
      },
      "outputs": [
        {
          "name": "stdout",
          "output_type": "stream",
          "text": [
            "The standard deviation of the duration column is: 42.59\n"
          ]
        }
      ],
      "source": [
        "#Q2\n",
        "print(f\"The standard deviation of the duration column is: {df['duration'].std():.2f}\")"
      ]
    },
    {
      "cell_type": "code",
      "execution_count": 9,
      "metadata": {
        "colab": {
          "base_uri": "https://localhost:8080/"
        },
        "id": "qK6Voa341y5D",
        "outputId": "7fb143cb-33f8-41b0-d003-4065f251a93f"
      },
      "outputs": [
        {
          "name": "stdout",
          "output_type": "stream",
          "text": [
            "The fraction of records left after dropping outliers is: 98.12\n"
          ]
        }
      ],
      "source": [
        "#Q3\n",
        "filtered_df = df[np.logical_and((df['duration'] >= 1), (df['duration'] <= 60))]\n",
        "fraction_left = len(filtered_df)/len(df) * 100\n",
        "df = filtered_df.copy()\n",
        "print(f\"The fraction of records left after dropping outliers is: {fraction_left:.2f}\")"
      ]
    },
    {
      "cell_type": "code",
      "execution_count": 10,
      "metadata": {
        "colab": {
          "base_uri": "https://localhost:8080/"
        },
        "id": "gZhkMa348n59",
        "outputId": "d797cca7-5528-4dfe-ad5c-17256734b17b"
      },
      "outputs": [
        {
          "data": {
            "text/plain": [
              "count   3009173.0\n",
              "mean         14.2\n",
              "std           9.9\n",
              "min           1.0\n",
              "25%           7.2\n",
              "50%          11.6\n",
              "75%          18.2\n",
              "max          60.0\n",
              "Name: duration, dtype: float64"
            ]
          },
          "execution_count": 10,
          "metadata": {},
          "output_type": "execute_result"
        }
      ],
      "source": [
        "df['duration'].describe() #To verify our duration column contains only values from 1 minute to 60 minutes"
      ]
    },
    {
      "cell_type": "code",
      "execution_count": 11,
      "metadata": {
        "id": "1c94_ksn6nHs"
      },
      "outputs": [],
      "source": [
        "#Q4\n",
        "#Change the model features to strings before One Hot encoding\n",
        "features = df[['PULocationID', 'DOLocationID']]\n",
        "features = features.astype(str)"
      ]
    },
    {
      "cell_type": "code",
      "execution_count": 12,
      "metadata": {
        "id": "DiY4O03mCyY4"
      },
      "outputs": [],
      "source": [
        "X = features.to_dict(orient='records')\n",
        "dv = DictVectorizer()\n",
        "dv.fit(X)\n",
        "X_train = dv.transform(X)\n",
        "y_train = df['duration'].values\n",
        "lr = LinearRegression()\n",
        "lr.fit(X_train, y_train)\n",
        "y_pred = lr.predict(X_train)"
      ]
    },
    {
      "cell_type": "code",
      "execution_count": 13,
      "metadata": {
        "colab": {
          "base_uri": "https://localhost:8080/"
        },
        "id": "23i40Z5UMGMa",
        "outputId": "d65dee62-23c7-47ba-e228-d8451f5fa178"
      },
      "outputs": [
        {
          "name": "stdout",
          "output_type": "stream",
          "text": [
            "RMSE: 7.649261821566201\n"
          ]
        }
      ],
      "source": [
        "rmse = mean_squared_error(y_train, y_pred, squared = False)\n",
        "print(f\"RMSE: {rmse}\")"
      ]
    },
    {
      "cell_type": "markdown",
      "metadata": {
        "id": "IXPDrP5j2rm6"
      },
      "source": [
        "#Validation dataset"
      ]
    },
    {
      "cell_type": "code",
      "execution_count": 14,
      "metadata": {
        "id": "mT_sEzl7owOF"
      },
      "outputs": [],
      "source": [
        "# Predicting February trip dataset\n",
        "df_val = pd.read_parquet('https://d37ci6vzurychx.cloudfront.net/trip-data/yellow_tripdata_2023-02.parquet')"
      ]
    },
    {
      "cell_type": "code",
      "execution_count": 15,
      "metadata": {
        "colab": {
          "base_uri": "https://localhost:8080/",
          "height": 226
        },
        "id": "rhZqyRlSsa00",
        "outputId": "9dbcbf3c-4c20-46dd-efe6-01e31c3a87cd"
      },
      "outputs": [
        {
          "data": {
            "text/html": [
              "<div>\n",
              "<style scoped>\n",
              "    .dataframe tbody tr th:only-of-type {\n",
              "        vertical-align: middle;\n",
              "    }\n",
              "\n",
              "    .dataframe tbody tr th {\n",
              "        vertical-align: top;\n",
              "    }\n",
              "\n",
              "    .dataframe thead th {\n",
              "        text-align: right;\n",
              "    }\n",
              "</style>\n",
              "<table border=\"1\" class=\"dataframe\">\n",
              "  <thead>\n",
              "    <tr style=\"text-align: right;\">\n",
              "      <th></th>\n",
              "      <th>VendorID</th>\n",
              "      <th>tpep_pickup_datetime</th>\n",
              "      <th>tpep_dropoff_datetime</th>\n",
              "      <th>passenger_count</th>\n",
              "      <th>trip_distance</th>\n",
              "      <th>RatecodeID</th>\n",
              "      <th>store_and_fwd_flag</th>\n",
              "      <th>PULocationID</th>\n",
              "      <th>DOLocationID</th>\n",
              "      <th>payment_type</th>\n",
              "      <th>fare_amount</th>\n",
              "      <th>extra</th>\n",
              "      <th>mta_tax</th>\n",
              "      <th>tip_amount</th>\n",
              "      <th>tolls_amount</th>\n",
              "      <th>improvement_surcharge</th>\n",
              "      <th>total_amount</th>\n",
              "      <th>congestion_surcharge</th>\n",
              "      <th>Airport_fee</th>\n",
              "    </tr>\n",
              "  </thead>\n",
              "  <tbody>\n",
              "    <tr>\n",
              "      <th>0</th>\n",
              "      <td>1</td>\n",
              "      <td>2023-02-01 00:32:53</td>\n",
              "      <td>2023-02-01 00:34:34</td>\n",
              "      <td>2.0</td>\n",
              "      <td>0.3</td>\n",
              "      <td>1.0</td>\n",
              "      <td>N</td>\n",
              "      <td>142</td>\n",
              "      <td>163</td>\n",
              "      <td>2</td>\n",
              "      <td>4.4</td>\n",
              "      <td>3.5</td>\n",
              "      <td>0.5</td>\n",
              "      <td>0.0</td>\n",
              "      <td>0.0</td>\n",
              "      <td>1.0</td>\n",
              "      <td>9.4</td>\n",
              "      <td>2.5</td>\n",
              "      <td>0.0</td>\n",
              "    </tr>\n",
              "    <tr>\n",
              "      <th>1</th>\n",
              "      <td>2</td>\n",
              "      <td>2023-02-01 00:35:16</td>\n",
              "      <td>2023-02-01 00:35:30</td>\n",
              "      <td>1.0</td>\n",
              "      <td>0.0</td>\n",
              "      <td>1.0</td>\n",
              "      <td>N</td>\n",
              "      <td>71</td>\n",
              "      <td>71</td>\n",
              "      <td>4</td>\n",
              "      <td>-3.0</td>\n",
              "      <td>-1.0</td>\n",
              "      <td>-0.5</td>\n",
              "      <td>0.0</td>\n",
              "      <td>0.0</td>\n",
              "      <td>-1.0</td>\n",
              "      <td>-5.5</td>\n",
              "      <td>0.0</td>\n",
              "      <td>0.0</td>\n",
              "    </tr>\n",
              "    <tr>\n",
              "      <th>2</th>\n",
              "      <td>2</td>\n",
              "      <td>2023-02-01 00:35:16</td>\n",
              "      <td>2023-02-01 00:35:30</td>\n",
              "      <td>1.0</td>\n",
              "      <td>0.0</td>\n",
              "      <td>1.0</td>\n",
              "      <td>N</td>\n",
              "      <td>71</td>\n",
              "      <td>71</td>\n",
              "      <td>4</td>\n",
              "      <td>3.0</td>\n",
              "      <td>1.0</td>\n",
              "      <td>0.5</td>\n",
              "      <td>0.0</td>\n",
              "      <td>0.0</td>\n",
              "      <td>1.0</td>\n",
              "      <td>5.5</td>\n",
              "      <td>0.0</td>\n",
              "      <td>0.0</td>\n",
              "    </tr>\n",
              "    <tr>\n",
              "      <th>3</th>\n",
              "      <td>1</td>\n",
              "      <td>2023-02-01 00:29:33</td>\n",
              "      <td>2023-02-01 01:01:38</td>\n",
              "      <td>0.0</td>\n",
              "      <td>18.8</td>\n",
              "      <td>1.0</td>\n",
              "      <td>N</td>\n",
              "      <td>132</td>\n",
              "      <td>26</td>\n",
              "      <td>1</td>\n",
              "      <td>70.9</td>\n",
              "      <td>2.2</td>\n",
              "      <td>0.5</td>\n",
              "      <td>0.0</td>\n",
              "      <td>0.0</td>\n",
              "      <td>1.0</td>\n",
              "      <td>74.7</td>\n",
              "      <td>0.0</td>\n",
              "      <td>1.2</td>\n",
              "    </tr>\n",
              "    <tr>\n",
              "      <th>4</th>\n",
              "      <td>2</td>\n",
              "      <td>2023-02-01 00:12:28</td>\n",
              "      <td>2023-02-01 00:25:46</td>\n",
              "      <td>1.0</td>\n",
              "      <td>3.2</td>\n",
              "      <td>1.0</td>\n",
              "      <td>N</td>\n",
              "      <td>161</td>\n",
              "      <td>145</td>\n",
              "      <td>1</td>\n",
              "      <td>17.0</td>\n",
              "      <td>1.0</td>\n",
              "      <td>0.5</td>\n",
              "      <td>3.3</td>\n",
              "      <td>0.0</td>\n",
              "      <td>1.0</td>\n",
              "      <td>25.3</td>\n",
              "      <td>2.5</td>\n",
              "      <td>0.0</td>\n",
              "    </tr>\n",
              "  </tbody>\n",
              "</table>\n",
              "</div>"
            ],
            "text/plain": [
              "   VendorID tpep_pickup_datetime tpep_dropoff_datetime  passenger_count  \\\n",
              "0         1  2023-02-01 00:32:53   2023-02-01 00:34:34              2.0   \n",
              "1         2  2023-02-01 00:35:16   2023-02-01 00:35:30              1.0   \n",
              "2         2  2023-02-01 00:35:16   2023-02-01 00:35:30              1.0   \n",
              "3         1  2023-02-01 00:29:33   2023-02-01 01:01:38              0.0   \n",
              "4         2  2023-02-01 00:12:28   2023-02-01 00:25:46              1.0   \n",
              "\n",
              "   trip_distance  RatecodeID store_and_fwd_flag  PULocationID  DOLocationID  \\\n",
              "0            0.3         1.0                  N           142           163   \n",
              "1            0.0         1.0                  N            71            71   \n",
              "2            0.0         1.0                  N            71            71   \n",
              "3           18.8         1.0                  N           132            26   \n",
              "4            3.2         1.0                  N           161           145   \n",
              "\n",
              "   payment_type  fare_amount  extra  mta_tax  tip_amount  tolls_amount  \\\n",
              "0             2          4.4    3.5      0.5         0.0           0.0   \n",
              "1             4         -3.0   -1.0     -0.5         0.0           0.0   \n",
              "2             4          3.0    1.0      0.5         0.0           0.0   \n",
              "3             1         70.9    2.2      0.5         0.0           0.0   \n",
              "4             1         17.0    1.0      0.5         3.3           0.0   \n",
              "\n",
              "   improvement_surcharge  total_amount  congestion_surcharge  Airport_fee  \n",
              "0                    1.0           9.4                   2.5          0.0  \n",
              "1                   -1.0          -5.5                   0.0          0.0  \n",
              "2                    1.0           5.5                   0.0          0.0  \n",
              "3                    1.0          74.7                   0.0          1.2  \n",
              "4                    1.0          25.3                   2.5          0.0  "
            ]
          },
          "execution_count": 15,
          "metadata": {},
          "output_type": "execute_result"
        }
      ],
      "source": [
        "df_val.head()"
      ]
    },
    {
      "cell_type": "code",
      "execution_count": 16,
      "metadata": {
        "colab": {
          "base_uri": "https://localhost:8080/",
          "height": 101
        },
        "id": "s-GV57nSs9Zc",
        "outputId": "bce4de12-f3b3-495e-d248-606166842483"
      },
      "outputs": [
        {
          "data": {
            "text/html": [
              "<div>\n",
              "<style scoped>\n",
              "    .dataframe tbody tr th:only-of-type {\n",
              "        vertical-align: middle;\n",
              "    }\n",
              "\n",
              "    .dataframe tbody tr th {\n",
              "        vertical-align: top;\n",
              "    }\n",
              "\n",
              "    .dataframe thead th {\n",
              "        text-align: right;\n",
              "    }\n",
              "</style>\n",
              "<table border=\"1\" class=\"dataframe\">\n",
              "  <thead>\n",
              "    <tr style=\"text-align: right;\">\n",
              "      <th></th>\n",
              "      <th>VendorID</th>\n",
              "      <th>tpep_pickup_datetime</th>\n",
              "      <th>tpep_dropoff_datetime</th>\n",
              "      <th>passenger_count</th>\n",
              "      <th>trip_distance</th>\n",
              "      <th>RatecodeID</th>\n",
              "      <th>store_and_fwd_flag</th>\n",
              "      <th>PULocationID</th>\n",
              "      <th>DOLocationID</th>\n",
              "      <th>payment_type</th>\n",
              "      <th>fare_amount</th>\n",
              "      <th>extra</th>\n",
              "      <th>mta_tax</th>\n",
              "      <th>tip_amount</th>\n",
              "      <th>tolls_amount</th>\n",
              "      <th>improvement_surcharge</th>\n",
              "      <th>total_amount</th>\n",
              "      <th>congestion_surcharge</th>\n",
              "      <th>Airport_fee</th>\n",
              "      <th>duration</th>\n",
              "    </tr>\n",
              "  </thead>\n",
              "  <tbody>\n",
              "    <tr>\n",
              "      <th>1975919</th>\n",
              "      <td>2</td>\n",
              "      <td>2023-02-20 14:04:05</td>\n",
              "      <td>2023-02-20 14:14:45</td>\n",
              "      <td>2.0</td>\n",
              "      <td>1.9</td>\n",
              "      <td>1.0</td>\n",
              "      <td>N</td>\n",
              "      <td>161</td>\n",
              "      <td>263</td>\n",
              "      <td>1</td>\n",
              "      <td>12.1</td>\n",
              "      <td>0.0</td>\n",
              "      <td>0.5</td>\n",
              "      <td>3.2</td>\n",
              "      <td>0.0</td>\n",
              "      <td>1.0</td>\n",
              "      <td>19.3</td>\n",
              "      <td>2.5</td>\n",
              "      <td>0.0</td>\n",
              "      <td>10.7</td>\n",
              "    </tr>\n",
              "  </tbody>\n",
              "</table>\n",
              "</div>"
            ],
            "text/plain": [
              "         VendorID tpep_pickup_datetime tpep_dropoff_datetime  passenger_count  \\\n",
              "1975919         2  2023-02-20 14:04:05   2023-02-20 14:14:45              2.0   \n",
              "\n",
              "         trip_distance  RatecodeID store_and_fwd_flag  PULocationID  \\\n",
              "1975919            1.9         1.0                  N           161   \n",
              "\n",
              "         DOLocationID  payment_type  fare_amount  extra  mta_tax  tip_amount  \\\n",
              "1975919           263             1         12.1    0.0      0.5         3.2   \n",
              "\n",
              "         tolls_amount  improvement_surcharge  total_amount  \\\n",
              "1975919           0.0                    1.0          19.3   \n",
              "\n",
              "         congestion_surcharge  Airport_fee  duration  \n",
              "1975919                   2.5          0.0      10.7  "
            ]
          },
          "execution_count": 16,
          "metadata": {},
          "output_type": "execute_result"
        }
      ],
      "source": [
        "df_val['duration'] = (df_val['tpep_dropoff_datetime'] - df_val['tpep_pickup_datetime']).dt.total_seconds()/60\n",
        "df_val = df_val[np.logical_and((df_val['duration'] >= 1), (df_val['duration'] <= 60))]\n",
        "df_val.sample()"
      ]
    },
    {
      "cell_type": "code",
      "execution_count": 17,
      "metadata": {
        "colab": {
          "base_uri": "https://localhost:8080/"
        },
        "id": "Cdf0gex1trpi",
        "outputId": "4fbf341c-d59b-48c0-8856-b5d028a320dd"
      },
      "outputs": [
        {
          "data": {
            "text/plain": [
              "count   2855951.0\n",
              "mean         14.5\n",
              "std          10.1\n",
              "min           1.0\n",
              "25%           7.4\n",
              "50%          11.8\n",
              "75%          18.6\n",
              "max          60.0\n",
              "Name: duration, dtype: float64"
            ]
          },
          "execution_count": 17,
          "metadata": {},
          "output_type": "execute_result"
        }
      ],
      "source": [
        "df_val['duration'].describe() #To verify our duration column contains only values from 1 minute to 60 minutes"
      ]
    },
    {
      "cell_type": "code",
      "execution_count": 18,
      "metadata": {
        "id": "epCVjYzos1J-"
      },
      "outputs": [],
      "source": [
        "features_val = df_val[['PULocationID', 'DOLocationID']]\n",
        "features_val = features_val.astype(str)\n",
        "X = features_val.to_dict(orient='records')"
      ]
    },
    {
      "cell_type": "code",
      "execution_count": 19,
      "metadata": {
        "id": "T9E7qvUe3Cko"
      },
      "outputs": [],
      "source": [
        "X_val = dv.transform(X)\n",
        "y_pred = lr.predict(X_val)"
      ]
    },
    {
      "cell_type": "code",
      "execution_count": 20,
      "metadata": {
        "colab": {
          "base_uri": "https://localhost:8080/"
        },
        "id": "qAuk8l1H7GIX",
        "outputId": "09c9d5e9-8e20-44eb-e049-e1fae4c7be4d"
      },
      "outputs": [
        {
          "name": "stdout",
          "output_type": "stream",
          "text": [
            "RMSE on validation dataset: 7.811821965108365\n"
          ]
        }
      ],
      "source": [
        "y_val = df_val['duration'].values\n",
        "rmse_val = mean_squared_error(y_val, y_pred, squared = False)\n",
        "print(f\"RMSE on validation dataset: {rmse_val}\")"
      ]
    },
    {
      "cell_type": "code",
      "execution_count": 21,
      "metadata": {},
      "outputs": [],
      "source": [
        "model_path = \"./models/lin_reg.bin\"\n",
        "with open(model_path, 'wb') as f_out:\n",
        "        pickle.dump((dv, lr), f_out)"
      ]
    }
  ],
  "metadata": {
    "accelerator": "GPU",
    "colab": {
      "authorship_tag": "ABX9TyPQHZ0mPf8mPU06m7q8FqiI",
      "gpuType": "T4",
      "mount_file_id": "1q6nvu_TOF39eVeP0zACJl36awPvUWCyF",
      "provenance": []
    },
    "kernelspec": {
      "display_name": "Python 3",
      "name": "python3"
    },
    "language_info": {
      "codemirror_mode": {
        "name": "ipython",
        "version": 3
      },
      "file_extension": ".py",
      "mimetype": "text/x-python",
      "name": "python",
      "nbconvert_exporter": "python",
      "pygments_lexer": "ipython3",
      "version": "3.11.9"
    }
  },
  "nbformat": 4,
  "nbformat_minor": 0
}
